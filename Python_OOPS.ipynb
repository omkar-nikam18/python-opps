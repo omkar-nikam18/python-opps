{
  "nbformat": 4,
  "nbformat_minor": 0,
  "metadata": {
    "colab": {
      "provenance": []
    },
    "kernelspec": {
      "name": "python3",
      "display_name": "Python 3"
    },
    "language_info": {
      "name": "python"
    }
  },
  "cells": [
    {
      "cell_type": "markdown",
      "source": [
        "\n",
        "#Theory qustions\n",
        "\n",
        "#Q-1 What is Object-Oriented Programming (OOP) ?\n",
        "\n",
        "-- Object-Oriented Programming (OOP) is a programming paradigm that organizes software design around objects rather than functions and logic. An object is a self-contained unit that bundles data (attributes or properties) and the behaviors that act on that data (methods).\n",
        "\n",
        "This approach mirrors how we perceive the real world, where objects like a \"car\" have attributes (color, brand, speed) and can perform actions (accelerate, brake, turn). In OOP, a Car object would contain variables for its color and brand and methods like accelerate() and brake().\n",
        "________________________________________________________________________________\n",
        "\n",
        "#Q-2 What is a class in OOP?\n",
        "\n",
        "--oriented programming (OOP), a class is a blueprint or a template for creating objects. It's not an actual object itself, but rather a logical structure that defines the common attributes (data) and methods (behaviors) that all objects of that class will possess.\n",
        "\n",
        "class-The blueprint. It's a definition that outlines the structure and behavior. For example, a Car class would define that all cars have attributes like color and speed, and methods like accelerate() and brake(). No memory is allocated for a class itself.\n",
        "________________________________________________________________________________\n",
        "#Q-3 What is an object in OOP?\n",
        "\n",
        "--In OOP, an object is a specific instance of a class. It's a fundamental, self-contained unit that combines data (its state or properties) and the methods (its behavior) that operate on that data. While a class is a blueprint, an object is the tangible, real-world entity created from that blueprint.\n",
        "________________________________________________________________________________\n",
        "#Q-4 What is the difference between abstraction and encapsulation?\n",
        "\n",
        "--Abstraction:- Abstraction is the process of hiding complex implementation details and showing only the essential features of an object. It provides a simplified, high-level view of a system. Think of a TV remote control. You use the buttons to change channels, adjust the volume, and power the TV on or off. You don't need to know about the intricate electronic circuits inside the remote or how it communicates with the TV. The remote is an abstraction—it presents a simple interface that hides all the underlying complexity.In programming, abstraction is achieved using abstract classes and interfaces. They define a blueprint of methods that must be implemented by concrete classes, but they don't provide the actual implementation. This allows you to design a system based on what objects should do, without getting bogged down in how they will do it.\n",
        "\n",
        "Encapsulation:- Encapsulation is the practice of bundling data (variables) and the methods (functions) that operate on that data into a single unit, typically a class. It's a protective wrapper that prevents direct access to the data from outside the class. Instead, data can only be accessed or modified through the class's public methods, often called \"getters\" and \"setters\".The main goal of encapsulation is data hiding. By making the data private, you ensure its integrity and prevent it from being accidentally or maliciously changed by external code. For example, a Car class might have a private speed variable. You wouldn't want other parts of the program to directly change the speed to a negative number or an absurdly high value. Instead, you'd provide a setSpeed() method that includes validation logic to ensure the new speed is within a valid range. This secures the data and makes the code more robust.\n",
        "________________________________________________________________________________\n",
        "\n",
        "#Q-5 What are dunder methods in Python?\n",
        "\n",
        "-- Dunder methods in Python are special methods with names that start and end with two underscores, like init or str. The \"dunder\" is a shorthand for \"double underscore.\"\n",
        "\n",
        "example== * init(self,....) * str(self):\n",
        "________________________________________________________________________________\n",
        "\n",
        "#Q-6 Explain the concept of inheritance in Oop?\n",
        "\n",
        "--Inheritance is a fundamental concept in object-oriented programming (OOP) that allows a new class to reuse, extend, and modify the properties and behaviors of an existing class. It's a way of modeling a hierarchical \"is-a\" relationship between classes.\n",
        "\n",
        "The class that is inherited from is called the superclass, parent class, or base class. The new class that inherits is called the subclass, child class, or derived class.\n",
        "________________________________________________________________________________\n",
        "\n",
        "#Q-7 What is polymorphism in OOP?\n",
        "\n",
        "--Polymorphism, one of the four pillars of OOP, means \"many forms.\" It allows a single interface, function, or operator to behave differently based on the data type or class it's acting upon. This makes your code more flexible, reusable, and readable.\n",
        "\n",
        "A simple example is the built-in len() function in Python. It can find the length of a string, a list, or a dictionary, even though these are different data types. The function itself doesn't change; its behavior adapts to the object it's given.\n",
        "________________________________________________________________________________\n",
        "\n",
        "#Q-8 How is encapsulation achieved in Python?\n",
        "\n",
        "--Encapsulation is achieved in Python by using name mangling to make attributes \"private,\" which is a convention for restricting direct access to an object's data. Unlike some other languages, Python doesn't have a strict concept of private or protected members. Instead, it relies on a set of conventions and a name-mangling feature to enforce encapsulation.\n",
        "________________________________________________________________________________\n",
        "#Q-9 What is a constructor in Python?\n",
        "\n",
        "--A constructor in Python is a special method used to initialize an object's state when it is created. It is automatically called when you instantiate a class, and its primary purpose is to set up the new object by assigning initial values to its attributes.\n",
        "\n",
        "method:- init\n",
        "________________________________________________________________________________\n",
        "#Q-10 What are class and static methods in Python?\n",
        "\n",
        "--Class and static methods in Python are both types of methods that are defined within a class but behave differently from instance methods. While an instance method requires an object of the class to be called and receives self (the instance) as its first argument, class and static methods don't need an instance.\n",
        "\n",
        "Class Method:-A class method is bound to the class itself, not to an instance of the class. It receives the class as its first argument, conventionally named cls, instead of self. Class methods are defined using the @classmethod decorator.\n",
        "\n",
        "static method:-A static method is not bound to either the class or its instance. It's just a regular function that happens to be inside a class's namespace. It doesn't receive self or cls as its first argument. Static methods are defined using the @staticmethod decorator.\n",
        "________________________________________________________________________________\n",
        "\n",
        "#Q-11 What is method overloading in Python?\n",
        "\n",
        "--ethod overloading is the ability to define multiple methods within the same class with the same name but different signatures, typically by having a different number or type of parameters. Python does not support method overloading in the same way as languages like Java or C++.\n",
        "\n",
        "When you define multiple methods with the same name in a Python class, the last one defined will overwrite all the previous ones. Python's dynamic typing means it doesn't need to know the data type of the arguments at compile time. It simply looks for a method with a specific name, and if it finds one, it calls it.\n",
        "________________________________________________________________________________\n",
        "#Q-12 What is method overriding in OOP?\n",
        "\n",
        "--Method overriding is an OOP concept where a subclass provides its own specific implementation for a method that is already defined in its parent class. This allows a child class to change the behavior it inherits from its parent, providing a different functionality while keeping the same method name and signature.\n",
        "________________________________________________________________________________\n",
        "\n",
        "#Q-13 What is a property decorator in Python?\n",
        "\n",
        "--A property decorator in Python is a way to create properties within a class. It allows you to define methods that can be accessed like attributes, providing a cleaner, more \"Pythonic\" interface for getting, setting, or deleting an attribute's value. This is a key tool for achieving encapsulation in Python.\n",
        "________________________________________________________________________________\n",
        "#Q-14 Why is polymorphism important in OOP?\n",
        "\n",
        "--Polymorphism is crucial in OOP because it promotes flexibility, reusability, and maintainability in code. It allows you to write more generic and robust code that can work with objects of different classes that share a common interface.\n",
        "\n",
        "Reason for importans:\n",
        "\n",
        "Code Reusability: Polymorphism allows you to write functions and methods that can operate on a range of different objects, rather than having to write separate code for each object type. For example, you can create a draw_shape() function that works for a Circle, a Square, and a Triangle, as long as all these objects have a draw() method. This avoids code duplication and makes your system more efficient.\n",
        "\n",
        "Flexibility and Extensibility:With polymorphism, you can easily extend your system without having to modify existing code. If you add a new class (like Star) that inherits from the same parent and implements the draw() method, your draw_shape() function will automatically work with the new Star object without any changes. This makes your codebase more adaptable to new features and changes.\n",
        "________________________________________________________________________________\n",
        "#Q-15 What is an abstract class in Python?\n",
        "\n",
        "--An abstract class is a blueprint for other classes, containing one or more abstract methods. You can't create an instance of an abstract class; you must inherit from it to create a concrete class. Abstract methods are declared but don't have an implementation, forcing subclasses to provide their own.\n",
        "________________________________________________________________________________\n",
        "#Q-16 What are the advantages of OOP?\n",
        "\n",
        "--The primary advantages of object-oriented programming (OOP) are code reusability, modularity, and scalability. It models real-world entities as objects, making it a natural way to design software.\n",
        "\n",
        "Advantages:\n",
        "\n",
        "* Code Reusability:  OOP allows you to create classes that can be reused in different parts of a program or in new projects. Through inheritance, a new class can inherit and extend the properties and behaviors of an existing one, which saves time and effort.\n",
        "\n",
        "* Modularity: Objects are self-contained, independent units with their own data and behavior. This makes a program's structure more organized and easier to understand. If you need to fix a bug or change a feature, you can often do so within a single object without affecting the rest of the code. This is a core benefit of encapsulation.\n",
        "\n",
        "*  Flexibility and Extensibility: Polymorphism allows you to design systems that are flexible and easy to extend. New features or objects can be added without having to change existing code, as long as they adhere to the common interface. This makes a system more adaptable to change and growth.\n",
        "________________________________________________________________________________\n",
        "#Q-17 What is the difference between a class variable and an instance variable?\n",
        "\n",
        "-- Class Variables:- A class variable is declared inside the class but outside of any method. Because it's shared, all objects of that class have access to the same value. Changes made to a class variable by one instance will be reflected in all other instances. They're typically used for data that is constant across all objects of a class, such as a counter for the number of objects created or a default value.\n",
        "\n",
        "Instance Variables: An instance variable is defined inside a method, usually the init constructor, using the self keyword. Each instance has its own copy of the variable, so changes made to it in one instance do not affect other instances. They are used to store data that is unique to each object.\n",
        "________________________________________________________________________________\n",
        "#Q-18 What is multiple inheritance in Python?\n",
        "\n",
        "-- Multiple inheritance is an object-oriented programming feature that allows a class to inherit from more than one parent class. This enables the child class to combine the attributes and methods of all its parent classes, creating a single, cohesive unit from multiple sources.\n",
        "________________________________________________________________________________\n",
        "#Q-19 Explain the purpose of ‘ str ’ and ‘ repr ’ methods in Python.\n",
        "\n",
        "--str The str method returns a human-readable string representation of an object. It's meant to be used for end-users or for display purposes, such as with the print() function or the str() built-in. The goal is to produce a readable, concise output that summarizes the object's state in a friendly way. If str is not defined, Python falls back to repr.\n",
        "\n",
        "__repr__\n",
        "The repr method returns an unambiguous, developer-oriented string representation. It's primarily used for debugging and logging. The goal is to return a string that, if passed to eval(), would create the same object. Think of it as a detailed, technical representation of the object's state.\n",
        "________________________________________________________________________________\n",
        "#Q-20 is the significance of the ‘super()’ function in Python?\n",
        "\n",
        "--The super() function in Python is a built-in function that provides a way to call a method from the parent (superclass) in a class hierarchy. Its primary purpose is to ensure that a child class, when overriding a method, can still leverage the functionality of the parent's version of that same method, rather than having to rewrite all the inherited logic.\n",
        "________________________________________________________________________________\n",
        "#Q-21 What is the significance of the del method in Python?\n",
        "\n",
        "--he del method, also known as the destructor, is a special method in Python that is called when an object is about to be \"destroyed\" or garbage-collected. Its primary purpose is to perform cleanup actions\n",
        "\n",
        "How it works: Unlike a constructor, which is called when an object is created, the del method is invoked when the reference count of an object drops to zero, meaning there are no more variables or data structures pointing to it. The garbage collector then reclaims the memory used by that object.\n",
        "________________________________________________________________________________\n",
        "#Q-22 What is the difference between @staticmethod and @classmethod in Python?\n",
        "\n",
        "-- Difference between @staticmethod and @class method:\n",
        "\n",
        "@staticmethod:- A static method is essentially a regular function that is logically grouped with a class. It can't access or modify the class state or the instance state. It's often used for utility functions that are related to the class but don't depend on any of the class's or instance's data.\n",
        "\n",
        "@classmethod:- A class method is bound to the class and can access and modify class-level attributes, which are shared by all instances. It's defined with @classmethod and receives the class itself, conventionally named cls, as its first argument.\n",
        "________________________________________________________________________________\n",
        "#Q-23 How does polymorphism work in Python with inheritance?\n",
        "\n",
        "--Polymorphism works with inheritance in Python by allowing methods in a subclass to override methods in a parent class. This enables objects of different classes that share a common superclass to be treated interchangeably, responding in their own unique way to the same method call.\n",
        "\n",
        "Example in Python:\n",
        "\n",
        "class Animal: def speak(self): raise NotImplementedError(\"Subclass must implement abstract method\")\n",
        "\n",
        "class Dog(Animal): def speak(self): return \"Woof!\"\n",
        "\n",
        "class Cat(Animal): def speak(self): return \"Meow!\"\n",
        "\n",
        "animals = [Dog(), Cat()]\n",
        "\n",
        "for animal in animals: print(animal.speak()) # The correct speak() method is called for each object.\n",
        "________________________________________________________________________________\n",
        "#Q-24 What is method chaining in Python OOP?\n",
        "\n",
        "--Method chaining is a programming technique that allows you to call multiple methods on an object in a single, sequential line of code. This is possible when each method returns a reference to the same object on which the next method is called, allowing the calls to be \"chained\" together.\n",
        "________________________________________________________________________________\n",
        "#Q-25 What is the purpose of the call method in Python?\n",
        "\n",
        "-- The call method in Python lets you make an object callable, just like a function. If a class has a call method, you can call an instance of that class using parentheses ().\n",
        "________________________________________________________________________________"
      ],
      "metadata": {
        "id": "qUuLMvLDtTNf"
      }
    },
    {
      "cell_type": "code",
      "source": [
        "#Q1 Create a parent class Animal with a method speak() that prints a generic message. Create a child class Dog that overrides the speak() method to print \"Bark!\".\n",
        "\n",
        "class Animal:\n",
        "  def speak(self):\n",
        "    print(\"animals sound\")\n",
        "\n",
        "class Dog (Animal):\n",
        "  def speak(self):\n",
        "    print(\"dogs bark\")\n",
        "\n",
        "obj1= Animal()\n",
        "obj1.speak()\n",
        "obj2 = Dog()\n",
        "obj2.speak()"
      ],
      "metadata": {
        "colab": {
          "base_uri": "https://localhost:8080/"
        },
        "id": "mYzZVRWUvW4L",
        "outputId": "1e3dfba1-aa94-4b97-cf24-4f176c4a2daf"
      },
      "execution_count": 10,
      "outputs": [
        {
          "output_type": "stream",
          "name": "stdout",
          "text": [
            "animals sound\n",
            "dogs bark\n"
          ]
        }
      ]
    },
    {
      "cell_type": "code",
      "source": [
        "#Q2 Write a program to create an abstract class Shape with a method area(). Derive classes Circle and Rectangle from it and implement the area() method in both\n",
        "\n",
        "from abc import abstractmethod\n",
        "\n",
        "class Shape:\n",
        "  @abstractmethod\n",
        "  def area(self):\n",
        "    pass\n",
        "\n",
        "class Circle(Shape):\n",
        "  def __init__(self,radius):\n",
        "    self.radius = radius\n",
        "\n",
        "  def area(self):\n",
        "    return 3.14 * self.radius * self.radius\n",
        "\n",
        "\n",
        "class Rectangle(Shape):\n",
        "  def __init__(self,length,width):\n",
        "    self.length = length\n",
        "    self.width =  width\n",
        "\n",
        "  def area(self):\n",
        "    return self.length * self.width\n",
        "\n",
        "\n",
        "c = Circle(5)\n",
        "print(\"area of circle is \",c.area())\n",
        "\n",
        "r = Rectangle(10,5)\n",
        "print(\"area of rectangle is \",r.area())"
      ],
      "metadata": {
        "colab": {
          "base_uri": "https://localhost:8080/"
        },
        "id": "rGbo76iRwHHV",
        "outputId": "e150155b-abc5-42ba-af8c-64b3df881228"
      },
      "execution_count": 16,
      "outputs": [
        {
          "output_type": "stream",
          "name": "stdout",
          "text": [
            "area of circle is  78.5\n",
            "area of rectangle is  50\n"
          ]
        }
      ]
    },
    {
      "cell_type": "code",
      "source": [
        "#Q3 Implement a multi-level inheritance scenario where a class Vehicle has an attribute type. Derive a class Car and further derive a class ElectricCar that adds a battery attribute.\n",
        "class Vehicle:\n",
        "  def __init__(self,type):\n",
        "    self.type = type\n",
        "\n",
        "  def display_type(self):\n",
        "     print(\"vehicle type :\",self.type)\n",
        "\n",
        "class Car(Vehicle):\n",
        "\n",
        "  def __init__(self, type,brand):\n",
        "    super().__init__(type)\n",
        "    self.brand = brand\n",
        "\n",
        "  def display_brand(self):\n",
        "    print(\"brand :\",self.brand)\n",
        "\n",
        "class ElectricCar(Car):\n",
        "  def __init__(self,type,brand,battery):\n",
        "    super().__init__(type,brand)\n",
        "    self.battery = battery\n",
        "\n",
        "  def dsiplay_battery(self):\n",
        "    print(\"display battery: \", self.battery)\n",
        "\n",
        "\n",
        "ecar= ElectricCar(\"electric car\",\"tesla\",\"100 kw\")\n",
        "ecar.display_brand()\n",
        "ecar.display_type()\n",
        "ecar.dsiplay_battery()\n",
        "\n",
        "\n"
      ],
      "metadata": {
        "colab": {
          "base_uri": "https://localhost:8080/"
        },
        "id": "WBytyfgH0Wja",
        "outputId": "b4cfab45-d4e5-4110-a10e-0eda39295e50"
      },
      "execution_count": 20,
      "outputs": [
        {
          "output_type": "stream",
          "name": "stdout",
          "text": [
            "brand : tesla\n",
            "vehicle type : electric car\n",
            "display battery:  100 kw\n"
          ]
        }
      ]
    },
    {
      "cell_type": "code",
      "source": [
        "#Q4 Demonstrate polymorphism by creating a base class Bird with a method fly(). Create two derived classes Sparrow and Penguin that override the fly() method.\n",
        "\n",
        "class Bird:\n",
        "  def fly(self):\n",
        "    print(\"birds are flying\")\n",
        "\n",
        "class Sparrow(Bird):\n",
        "  def fly(self):\n",
        "    print(\"sparrows are flying\")\n",
        "\n",
        "class Crow(Bird):\n",
        "  def fly(self):\n",
        "    print(\"crows are flying\")\n",
        "\n",
        "def Bird_fly(Bird):\n",
        "  Bird.fly()\n",
        "\n",
        "sparrow = Sparrow()\n",
        "crow = Crow()\n",
        "\n",
        "Bird_fly(sparrow)\n",
        "Bird_fly(crow)"
      ],
      "metadata": {
        "colab": {
          "base_uri": "https://localhost:8080/"
        },
        "id": "pIlAtVKF4pIV",
        "outputId": "2cbd695b-df49-429b-999f-1a92cd00fb8e"
      },
      "execution_count": 27,
      "outputs": [
        {
          "output_type": "stream",
          "name": "stdout",
          "text": [
            "sparrows are flying\n",
            "crows are flying\n"
          ]
        }
      ]
    },
    {
      "cell_type": "code",
      "source": [
        "#Q5 Write a program to demonstrate encapsulation by creating a class BankAccount with private attributes balance and methods to deposit, withdraw, and check balance.\n",
        "\n",
        "class BankAccount :\n",
        "  def __init__(self,balance):\n",
        "    self.__balance = balance\n",
        "\n",
        "  def deposit(self,amount):\n",
        "    self.amount = amount\n",
        "    self.__balance += self.amount\n",
        "    return self.__balance\n",
        "\n",
        "\n",
        "\n",
        "  def withdraw(self,amount):\n",
        "    self.amount = amount\n",
        "    if self.amount > self.__balance :\n",
        "      print(\"not enough balance\")\n",
        "    else :\n",
        "      self.__balance -= self.amount\n",
        "      return self.__balance\n",
        "\n",
        "  def check_balance(self):\n",
        "    print(\"current balance is\", self.__balance)\n",
        "\n",
        "\n",
        "customer1 = BankAccount(1000)\n",
        "customer1.deposit(600)\n",
        "customer1.check_balance()\n",
        "customer1.withdraw(1100)\n",
        "customer1.withdraw(10000)\n",
        "customer1.check_balance()"
      ],
      "metadata": {
        "colab": {
          "base_uri": "https://localhost:8080/"
        },
        "id": "uDB5AyrPtI61",
        "outputId": "9965a68e-9648-4da7-b7c3-0ae5e73a69d2"
      },
      "execution_count": 30,
      "outputs": [
        {
          "output_type": "stream",
          "name": "stdout",
          "text": [
            "current balance is 1600\n",
            "not enough balance\n",
            "current balance is 500\n"
          ]
        }
      ]
    },
    {
      "cell_type": "code",
      "source": [
        "#Q6 Demonstrate runtime polymorphism using a method play() in a base class Instrument. Derive classes Guitar and Piano that implement their own version of play().\n",
        "\n",
        "class Instrument:\n",
        "  def play(self):\n",
        "    print(\"instrument is playing\")\n",
        "\n",
        "class Guitar:\n",
        "  def play(self):\n",
        "    print(\"guitar is playing\")\n",
        "\n",
        "class Piano:\n",
        "  def play(self):\n",
        "    print(\"piano is playing\")\n",
        "\n",
        "def Instrument_play(Instrument):\n",
        "  Instrument.play()\n",
        "\n",
        "guitar = Guitar()\n",
        "piano = Piano()\n",
        "\n",
        "Instrument_play(guitar)\n",
        "Instrument_play(piano)\n",
        "\n"
      ],
      "metadata": {
        "colab": {
          "base_uri": "https://localhost:8080/"
        },
        "id": "XWaNdc1Ju_6T",
        "outputId": "d3cdd053-a093-42ed-b427-a31dabcc869a"
      },
      "execution_count": 32,
      "outputs": [
        {
          "output_type": "stream",
          "name": "stdout",
          "text": [
            "guitar is playing\n",
            "piano is playing\n"
          ]
        }
      ]
    },
    {
      "cell_type": "code",
      "source": [
        "#Q7 Create a class MathOperations with a class method add_numbers() to add two numbers and a static method subtract_numbers() to subtract two numbers.\n",
        "\n",
        "class MathOperations:\n",
        "\n",
        "  @classmethod\n",
        "  def add_numbers(cls,a,b):\n",
        "    return a+b\n",
        "\n",
        "  @staticmethod\n",
        "  def subtract_numbers(a,b):\n",
        "    return a-b\n",
        "\n",
        "addition = MathOperations.add_numbers(5,10)\n",
        "print(\"addition is \",addition)\n",
        "\n",
        "subtraction= MathOperations.subtract_numbers(7,2)\n",
        "print(\"subtraction is \",subtraction)"
      ],
      "metadata": {
        "colab": {
          "base_uri": "https://localhost:8080/"
        },
        "id": "j1kFtkhK1wcm",
        "outputId": "9cab6c31-edae-4e88-ba4d-ab4539e82bdb"
      },
      "execution_count": 42,
      "outputs": [
        {
          "output_type": "stream",
          "name": "stdout",
          "text": [
            "addition is  15\n",
            "subtraction is  5\n"
          ]
        }
      ]
    },
    {
      "cell_type": "code",
      "source": [
        "#Q8 Implement a class Person with a class method to count the total number of persons created.\n",
        "\n",
        "class Person:\n",
        "  count = 0\n",
        "\n",
        "  def __init__(self,name):\n",
        "    self.name = name\n",
        "    Person.count +=1\n",
        "\n",
        "  @classmethod\n",
        "  def total_persons (cls):\n",
        "    print(\"total number of persons :\",cls.count)\n",
        "\n",
        "p1 = Person(\"omkar\")\n",
        "p2 = Person(\"pranav\")\n",
        "p3 = Person(\"vedant\")\n",
        "p4 = Person(\"makrand\")\n",
        "\n",
        "Person.total_persons()"
      ],
      "metadata": {
        "colab": {
          "base_uri": "https://localhost:8080/"
        },
        "id": "N1pdoa003tJv",
        "outputId": "4daa0e05-1bb6-4eb6-c0af-3b48259d7cb9"
      },
      "execution_count": 5,
      "outputs": [
        {
          "output_type": "stream",
          "name": "stdout",
          "text": [
            "total number of persons : 4\n"
          ]
        }
      ]
    },
    {
      "cell_type": "code",
      "source": [
        "#Q9  Write a class Fraction with attributes numerator and denominator. Override the str method to display the fraction as \"numerator/denominator\".\n",
        "\n",
        "class Fraction:\n",
        "  def __init__(self,numerator,denominator):\n",
        "    self.numerator = numerator\n",
        "    self.denominator = denominator\n",
        "\n",
        "  def __str__(self):\n",
        "    return f\"{self.numerator} / {self.denominator}\"\n",
        "\n",
        "\n",
        "f = Fraction(9,7)\n",
        "print(f)"
      ],
      "metadata": {
        "colab": {
          "base_uri": "https://localhost:8080/"
        },
        "id": "C2qPccIhHera",
        "outputId": "8b93d028-ae56-44f8-c95a-2459b26bbe52"
      },
      "execution_count": 12,
      "outputs": [
        {
          "output_type": "stream",
          "name": "stdout",
          "text": [
            "9 / 7\n"
          ]
        }
      ]
    },
    {
      "cell_type": "code",
      "source": [
        "#Q10  Demonstrate operator overloading by creating a class Vector and overriding the add method to add two vectors.\n",
        "\n",
        "class Vector:\n",
        "  def __init__(self,x,y):\n",
        "    self.x = x\n",
        "    self.y = y\n",
        "\n",
        "  def __add__(self,other):\n",
        "    return Vector (self.x + other.x , self.y + other.y )\n",
        "\n",
        "  def __str__(self):\n",
        "    return f\"({self.x},{self.y})\"\n",
        "\n",
        "v1 = Vector(2,4)\n",
        "v2 = Vector(3,6)\n",
        "v3 = v1 + v2\n",
        "\n",
        "print(v1)\n",
        "print(v2)\n",
        "print(v3)"
      ],
      "metadata": {
        "colab": {
          "base_uri": "https://localhost:8080/"
        },
        "id": "mmkZcKuALZFM",
        "outputId": "0a1e2857-b684-4e03-c411-a695cf075556"
      },
      "execution_count": 19,
      "outputs": [
        {
          "output_type": "stream",
          "name": "stdout",
          "text": [
            "(2,4)\n",
            "(3,6)\n",
            "(5,10)\n"
          ]
        }
      ]
    },
    {
      "cell_type": "code",
      "source": [
        "#Q11 Create a class Person with attributes name and age. Add a method greet() that prints \"Hello, my name is {name} and I am {age} years old.\"\n",
        "\n",
        "class Person:\n",
        "  def __init__(self,name,age):\n",
        "    self.name =  name\n",
        "    self.age = age\n",
        "\n",
        "  def greet(self):\n",
        "    print(f\"my name is {self.name} and i am {self.age} years old\")\n",
        "\n",
        "p1 = Person(\"omkar\",21)\n",
        "p1.greet()"
      ],
      "metadata": {
        "colab": {
          "base_uri": "https://localhost:8080/"
        },
        "id": "_CPqBFysNblH",
        "outputId": "495ee1cc-5a3a-48ba-ab27-3d71fc6908b4"
      },
      "execution_count": 24,
      "outputs": [
        {
          "output_type": "stream",
          "name": "stdout",
          "text": [
            "my name is omkar and i am 21 years old\n"
          ]
        }
      ]
    },
    {
      "cell_type": "code",
      "source": [
        "#Q12 Implement a class Student with attributes name and grades. Create a method average_grade() to compute the average of the grades.\n",
        "\n",
        "class Student :\n",
        "  def __init__(self,name, grades):\n",
        "    self.name = name\n",
        "    self.grades = grades\n",
        "\n",
        "  def average_grade (self):\n",
        "    if self.grades == 0 :\n",
        "      return 0\n",
        "    return sum(self.grades)/ len(self.grades)\n",
        "\n",
        "stud1 = Student(\"omkar\",[90,88,87,92])\n",
        "stud1.average_grade()"
      ],
      "metadata": {
        "colab": {
          "base_uri": "https://localhost:8080/"
        },
        "id": "ythMdzPuOuS6",
        "outputId": "28e78c0c-bc61-461d-f252-a0d541aedeea"
      },
      "execution_count": 27,
      "outputs": [
        {
          "output_type": "execute_result",
          "data": {
            "text/plain": [
              "89.25"
            ]
          },
          "metadata": {},
          "execution_count": 27
        }
      ]
    },
    {
      "cell_type": "code",
      "source": [
        "#Q13  Create a class Rectangle with methods set_dimensions() to set the dimensions and area() to calculate the area.\n",
        "\n",
        "class Rectangle :\n",
        "  def __init__(self):\n",
        "    self.length = 0\n",
        "    self.width = 0\n",
        "\n",
        "  def set_dimensions(self,length,width):\n",
        "    self.length = length\n",
        "    self.width = width\n",
        "\n",
        "  def area(self):\n",
        "    return self.length * self.width\n",
        "\n",
        "r = Rectangle()\n",
        "r.set_dimensions(10,5)\n",
        "\n",
        "print(\"area of rectangle is \",r.area())"
      ],
      "metadata": {
        "colab": {
          "base_uri": "https://localhost:8080/"
        },
        "id": "u1X1N9gXRFH-",
        "outputId": "2a8be65f-06b3-4daf-996b-592e799817cb"
      },
      "execution_count": 31,
      "outputs": [
        {
          "output_type": "stream",
          "name": "stdout",
          "text": [
            "area of rectangle is  50\n"
          ]
        }
      ]
    },
    {
      "cell_type": "code",
      "source": [
        "#Q14 Create a class Employee with a method calculate_salary() that computes the salary based on hours worked and hourly rate. Create a derived class Manager that adds a bonus to the salary.\n",
        "\n",
        "class Employee :\n",
        "  def __init__ (self,name,hours_worked,hourly_rate):\n",
        "    self.name = name\n",
        "    self.hours_worked = hours_worked\n",
        "    self.hourly_rate = hourly_rate\n",
        "\n",
        "  def calculate_salary (self):\n",
        "    return self.hours_worked * self.hourly_rate\n",
        "\n",
        "class Manager(Employee):\n",
        "  def __init__ (self,name,hours_worked,hourly_rate,bonus):\n",
        "    super().__init__(name,hours_worked,hourly_rate)\n",
        "    self.bonus = bonus\n",
        "\n",
        "  def calculate_salary(self):\n",
        "    base_salary = super().calculate_salary()\n",
        "    return base_salary + self.bonus\n",
        "\n",
        "emp1 = Employee(\"pranav\",40,500)\n",
        "emp1.calculate_salary()\n",
        "\n",
        "m1 = Manager(\"omkar\",50,800,10000)\n",
        "m1.calculate_salary()\n"
      ],
      "metadata": {
        "colab": {
          "base_uri": "https://localhost:8080/"
        },
        "id": "TICabXl4Si5p",
        "outputId": "2fd1db96-a584-4076-dc9c-4c48d70d4a43"
      },
      "execution_count": 39,
      "outputs": [
        {
          "output_type": "execute_result",
          "data": {
            "text/plain": [
              "50000"
            ]
          },
          "metadata": {},
          "execution_count": 39
        }
      ]
    },
    {
      "cell_type": "code",
      "source": [
        "#Q15 Create a class Product with attributes name, price, and quantity. Implement a method total_price() that calculates the total price of the product.\n",
        "\n",
        "class Product :\n",
        "  def __init__ (self,name,price,quantity):\n",
        "    self.name = name\n",
        "    self.price = price\n",
        "    self.quantity = quantity\n",
        "\n",
        "  def total_price (self):\n",
        "    return self.price * self.quantity\n",
        "\n",
        "p1 = Product(\"ice_cream\",50,5)\n",
        "p1.total_price()"
      ],
      "metadata": {
        "colab": {
          "base_uri": "https://localhost:8080/"
        },
        "id": "zOFadZGMU6pH",
        "outputId": "6c2692c8-9890-4815-c9b9-2898b187f4c1"
      },
      "execution_count": 41,
      "outputs": [
        {
          "output_type": "execute_result",
          "data": {
            "text/plain": [
              "250"
            ]
          },
          "metadata": {},
          "execution_count": 41
        }
      ]
    },
    {
      "cell_type": "code",
      "source": [
        "#Q16  Create a class Animal with an abstract method sound(). Create two derived classes Cow and Sheep that implement the sound() method.\n",
        "\n",
        "from abc import abstractmethod\n",
        "class Animal() :\n",
        "  @abstractmethod\n",
        "  def sound(self):\n",
        "    pass\n",
        "\n",
        "class Cow(Animal):\n",
        "  def sound(self):\n",
        "    print(\"cow's sound\")\n",
        "\n",
        "class Sheep(Animal):\n",
        "  def sound(self):\n",
        "    print(\"sheep's sound\")\n",
        "\n",
        "\n",
        "cow = Cow()\n",
        "cow.sound()\n",
        "\n",
        "sheep = Sheep()\n",
        "sheep.sound()"
      ],
      "metadata": {
        "colab": {
          "base_uri": "https://localhost:8080/"
        },
        "id": "SEIxPnUtYwG5",
        "outputId": "8b91a9e4-742f-4784-99e4-76ee402e4538"
      },
      "execution_count": 53,
      "outputs": [
        {
          "output_type": "stream",
          "name": "stdout",
          "text": [
            "cow's sound\n",
            "sheep's sound\n"
          ]
        }
      ]
    },
    {
      "cell_type": "code",
      "source": [
        "#Q17 Create a class Book with attributes title, author, and year_published. Add a method get_book_info() that returns a formatted string with the book's details.\n",
        "\n",
        "class Book :\n",
        "  def __init__ (self, title,author,year_published):\n",
        "    self.title = title\n",
        "    self.author = author\n",
        "    self.year_published = year_published\n",
        "\n",
        "  def get_book_info(self):\n",
        "    return f\"title :{self.title}, author:{self.author}, year published:{self.year_published}\"\n",
        "\n",
        "b1 = Book(\"The Indian struggle\",\"Subhash chandra bose\",1935)\n",
        "print(b1.get_book_info())\n"
      ],
      "metadata": {
        "colab": {
          "base_uri": "https://localhost:8080/"
        },
        "id": "bvA2oAoKafew",
        "outputId": "554fe658-7e1d-436f-8fff-3f12d58bcfb8"
      },
      "execution_count": 58,
      "outputs": [
        {
          "output_type": "stream",
          "name": "stdout",
          "text": [
            "title :The Indian struggle, author:Subhash chandra bose, year published:1935\n"
          ]
        }
      ]
    },
    {
      "cell_type": "code",
      "source": [
        "#Q18 Create a class House with attributes address and price. Create a derived class Mansion that adds an attribute number_of_rooms.\n",
        "\n",
        "class House :\n",
        "  def __init__(self,address,price):\n",
        "    self.address = address\n",
        "    self.price = price\n",
        "\n",
        "class Mansion(House):\n",
        "  def __init__(self, address, price,number_of_rooms):\n",
        "    super().__init__(address, price)\n",
        "    self.number_of_rooms = number_of_rooms\n",
        "\n",
        "mansion = Mansion(\"omkar bungalow,chetna nagar,nashik\",10000000,5)\n",
        "\n",
        "print(\"address: \",mansion.address)\n",
        "print(\"price: \",mansion.price)\n",
        "print(\"number of rooms: \",mansion.number_of_rooms)"
      ],
      "metadata": {
        "colab": {
          "base_uri": "https://localhost:8080/"
        },
        "id": "XFbp6sxMlX7y",
        "outputId": "1ce4af49-cbb2-4657-978a-7a70c84524b7"
      },
      "execution_count": 63,
      "outputs": [
        {
          "output_type": "stream",
          "name": "stdout",
          "text": [
            "address:  omkar bungalow,chetna nagar,nashik\n",
            "price:  10000000\n",
            "number of rooms:  5\n"
          ]
        }
      ]
    }
  ]
}